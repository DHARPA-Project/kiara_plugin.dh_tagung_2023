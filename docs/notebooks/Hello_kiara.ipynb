{
 "cells": [
  {
   "cell_type": "markdown",
   "metadata": {},
   "source": [
    "<h2>Digital History: The Story So Far</h2>\n",
    "\n",
    "As the field of Digital History continues to grow, so too does the number of tools, software, and coding packages built to support and advance digital history in practice. The range of this is at times staggering: from applications suitable for the most novice of digital historians, to coding guides and tools for those working to more nuanced and specific end-goals, researchers have an ability to engage with their materials in digital, quantitative ways on a never before seen level. Often we focus primarily on the new *findings* that come of out this new way of approaching research - but what about the ways we get to those findings?\n",
    "\n",
    "Regardless of the type of digital analysis being performed or even the software being used, the process is normally the same: input some data, click some buttons or run some code (perhaps a couple of times over to edit the code and adjust the outcomes), and get your end result.\n",
    "\n",
    "You've got an outcome - but do you know how you've got from a to b? It's likely that variables have been written over several times along the way, and the data has changed from one type to another, been filtered or added to, and decision after decision has been made without necessarily knowing it. Each little adjustment or re-run of the code has contributed to the research process and is critical to the end output or findings.\n",
    "\n",
    "But how do we keep track?\n",
    "\n",
    "<h1>Hello <i>kiara</i>.</h1>\n",
    "<h3>Introducing <i>kiara</i>, a new data orchestration tool.</h3>\n",
    "\n",
    "This new tool incorporates a number of different digital research approaches, but most importantly documents and encourages users to critically reflect on the process and use of DH tools. In doing so, the software opens up the black box of digital research, moving away from button-clicking software and making digital research more transparent and open to commentary, replicability, and criticism. It not only makes the research process itself more open, allowing users to visualise and examine the individual steps from start to finish, but also allows them to track changes to the data itself, something that is either imperceptible or, perhaps more importantly, *forgotten about* in traditional digital history methods and tools. *kiara* therefore acts as a 'wrapper' to this digital reserach process, tracking and documenting the steps and changes to the data, producing a veritable map of the journey that can be reflected upon and shared.\n",
    "\n",
    "This tutorial will walk you through installation of *kiara* in Jupyter Notebooks, and some basic but essential functions that can be built on in further notebooks. At the end, it will showcase the **data lineage**, having tracked the research process and changes to the data from start to finish.\n",
    "\n",
    "This tutorial requires you to know **python** and **SQL**.\n",
    "\n",
    "<h2>Installation</h2>\n",
    "\n",
    "First, we need to check if *kiara* and its plugins are already installed, and install them if not. There are currently a number of plugins, including:\n",
    "\n",
    "- <a href=\"https://dharpa.org/kiara_plugin.core_types/latest/\">`kiara_plugin.core-types`</a>\n",
    "- <a href=\"https://dharpa.org/kiara_plugin.onboarding/latest/\">`kiara_plugin.onboarding`</a>\n",
    "- <a href=\"https://dharpa.org/kiara_plugin.tabular/latest/\">`kiara_plugin.tabular`</a>\n",
    "- <a href=\"https://dharpa.org/kiara_plugin.network_analysis/latest/\">`kiara_plugin.network_analysis`</a>\n",
    "- <a href=\"https://dharpa.org/kiara_plugin.language_processing/latest/\">`kiara_plugin.language_processing`</a>\n",
    "- <a href=\"https://dharpa.org/kiara_plugin.html/latest/\">`kiara_plugin.html`</a>\n",
    "- <a href=\"https://dharpa.org/kiara_plugin.streamlit/latest/\">`kiara_plugin.streamlit`</a>\n",
    "\n",
    "All of these will be installed automatically alongside *kiara*, using the code below:"
   ]
  },
  {
   "cell_type": "code",
   "execution_count": null,
   "metadata": {
    "jupyter": {
     "outputs_hidden": false
    },
    "pycharm": {
     "is_executing": true
    }
   },
   "outputs": [],
   "source": [
    "try:\n",
    "    from kiara_plugin.jupyter import ensure_kiara_plugins\n",
    "except:\n",
    "    import sys\n",
    "    print(\"Installing 'kiara_plugin.jupyter'...\")\n",
    "    !{sys.executable} -m pip install -q kiara_plugin.jupyter\n",
    "    from kiara_plugin.jupyter import ensure_kiara_plugins\n",
    "\n",
    "ensure_kiara_plugins()\n"
   ]
  },
  {
   "cell_type": "markdown",
   "metadata": {},
   "source": [
    "<h2>Running <i>kiara</i></h2>\n",
    "\n",
    "In order to use *kiara*, we need to create a `KiaraAPI` instance. An API allows us to control and interact with *kiara* and its functions. In *kiara* this also allows us to get more information about what can be done (and what is happening) to our data as we go. For more on what can be done with the API, see the *kiara* API documentation <a href = \"https://dharpa.org/kiara/latest/reference/kiara/interfaces/python_api/__init__/#kiara.interfaces.python_api.KiaraAPI\">here</a>."
   ]
  },
  {
   "cell_type": "code",
   "execution_count": null,
   "metadata": {
    "jupyter": {
     "outputs_hidden": false
    }
   },
   "outputs": [],
   "source": [
    "from kiara.api import KiaraAPI\n",
    "\n",
    "kiara = KiaraAPI.instance()"
   ]
  },
  {
   "cell_type": "markdown",
   "metadata": {},
   "source": [
    "Now we have an API in place, we can get more information about what we can do in *kiara*. Let's start by asking *kiara* to list all the operations that are included with the plugins we just installed."
   ]
  },
  {
   "cell_type": "code",
   "execution_count": null,
   "metadata": {},
   "outputs": [],
   "source": [
    "kiara.list_operation_ids()"
   ]
  },
  {
   "cell_type": "markdown",
   "metadata": {},
   "source": [
    "<h3>Downloading Files</h3>\n",
    "\n",
    "Great, now we know the different kind of operations we can use with *kiara*. Let's start by introducing some files to our notebook, using the `download.file` function.<br/>\n",
    "First we want to find out what this operation does, and just as importantly, what inputs it needs to work."
   ]
  },
  {
   "cell_type": "code",
   "execution_count": null,
   "metadata": {},
   "outputs": [],
   "source": [
    "kiara.retrieve_operation_info('download.file')"
   ]
  },
  {
   "cell_type": "markdown",
   "metadata": {},
   "source": [
    "So from this, we know that `download.file` will download a single file from a remote location for us to use in *kiara*. <br/>\n",
    "We need to give the function a **url** and, if we want, a **file name**. These are the <span style=\"color:green\">**inputs**</span>. <br/>\n",
    "In return, we will get the **file** and **metadata** about the file as our <span style=\"color:red\">**outputs**</span>.\n",
    "\n",
    "Let's give this a go using some *kiara* sample data.\n",
    "\n",
    "First we define our <span style=\"color:green\">inputs</span>, then use `kiara.run_job` with our chosen operation, `download.file`, and save this as our <span style=\"color:red\">outputs</span>."
   ]
  },
  {
   "cell_type": "code",
   "execution_count": null,
   "metadata": {},
   "outputs": [],
   "source": [
    "inputs = {\n",
    "        \"url\": \"https://raw.githubusercontent.com/DHARPA-Project/kiara.examples/main/examples/data/network_analysis/journals/JournalNodes1902.csv\",\n",
    "        \"file_name\": \"JournalNodes1902.csv\"\n",
    "}\n",
    "\n",
    "outputs = kiara.run_job('download.file', inputs=inputs)"
   ]
  },
  {
   "cell_type": "markdown",
   "metadata": {},
   "source": [
    "Let's print out our <span style=\"color:red\">outputs</span> and see what that looks like."
   ]
  },
  {
   "cell_type": "code",
   "execution_count": null,
   "metadata": {},
   "outputs": [],
   "source": [
    "outputs"
   ]
  },
  {
   "cell_type": "markdown",
   "metadata": {},
   "source": [
    "Great! We've successfully downloaded the file, and we can see there's lots of information here.\n",
    "\n",
    "At the moment, we're most interested in the **file** output. This contains the actual *contents* of the file that we have just downloaded.\n",
    "\n",
    "Let's separate this out and store it in a separate variable for us to use."
   ]
  },
  {
   "cell_type": "code",
   "execution_count": null,
   "metadata": {},
   "outputs": [],
   "source": [
    "downloaded_file = outputs['file']"
   ]
  },
  {
   "cell_type": "markdown",
   "metadata": {},
   "source": [
    "<h3>New Formats: Creating and Converting</h3>\n",
    "\n",
    "What next? We could transform the downloaded file contents into a different format. <br/>\n",
    "Let's use the operation list earlier, and look for something that allows us to create something out of our new file."
   ]
  },
  {
   "cell_type": "code",
   "execution_count": null,
   "metadata": {},
   "outputs": [],
   "source": [
    "kiara.list_operation_ids('create')"
   ]
  },
  {
   "cell_type": "markdown",
   "metadata": {},
   "source": [
    "Our file was orginally in a CSV format, so let's make a table using `create.table.from.file`. \n",
    "\n",
    "Just like when we used `download.file`, we can double check what this does, and what <span style=\"color:green\">inputs</span> and <span style=\"color:red\">outputs</span> this involves.\n",
    "\n",
    "This time, we're also going to use a variable to store the operation in - this is especially handy if the operation has a long name, or if you want to use the same operation more than once without retyping it."
   ]
  },
  {
   "cell_type": "code",
   "execution_count": null,
   "metadata": {},
   "outputs": [],
   "source": [
    "op_id = 'create.table.from.file'\n",
    "\n",
    "kiara.retrieve_operation_info(op_id)"
   ]
  },
  {
   "cell_type": "markdown",
   "metadata": {},
   "source": [
    "Great, we have all the information we need now.\n",
    "\n",
    "Let's go again.\n",
    "\n",
    "First we define our <span style=\"color:green\">inputs</span>, that is the downloaded file we saved earlier as well as telling kiara that the first row should be read as a header.\n",
    "\n",
    "Then use `kiara.run_job` with our chosen operation, this time stored as `op_id`.\n",
    "\n",
    "Once this is saved as our <span style=\"color:red\">outputs</span>, we can print it out."
   ]
  },
  {
   "cell_type": "code",
   "execution_count": null,
   "metadata": {},
   "outputs": [],
   "source": [
    "inputs = {\n",
    "    \"file\": downloaded_file,\n",
    "    \"first_row_is_header\": True\n",
    "}\n",
    "\n",
    "outputs = kiara.run_job(op_id, inputs=inputs)\n",
    "\n",
    "outputs"
   ]
  },
  {
   "cell_type": "markdown",
   "metadata": {},
   "source": [
    "This has done exactly what we wanted, and shown the contents from the downloaded file as a table. But we are also interested in some general (mostly internal) information and metadata, this time for the new table we have just created, rather than the original file itself.\n",
    "\n",
    "Let's have a look."
   ]
  },
  {
   "cell_type": "code",
   "execution_count": null,
   "metadata": {},
   "outputs": [],
   "source": [
    "outputs_table = outputs['table']\n",
    "\n",
    "outputs_table"
   ]
  },
  {
   "cell_type": "markdown",
   "metadata": {},
   "source": [
    "<h3>Querying our Data</h3>\n",
    "\n",
    "So now we have downloaded our file and converted it into a table, we want to actually explore it.\n",
    "\n",
    "To do this, we can query the table using **SQL** and some functions already included in *kiara*.\n",
    "\n",
    "Let's take another look at that operation list, this time looking for functions that let us 'query'.\n"
   ]
  },
  {
   "cell_type": "code",
   "execution_count": null,
   "metadata": {},
   "outputs": [],
   "source": [
    "kiara.list_operation_ids('query')"
   ]
  },
  {
   "cell_type": "markdown",
   "metadata": {},
   "source": [
    "Well, we already know our file has been converted into a table, so let's have a look at `query.table`."
   ]
  },
  {
   "cell_type": "code",
   "execution_count": null,
   "metadata": {},
   "outputs": [],
   "source": [
    "kiara.retrieve_operation_info('query.table')"
   ]
  },
  {
   "cell_type": "markdown",
   "metadata": {},
   "source": [
    "So from this information, we only need to provide the **table** itself, and our **query**.\n",
    "\n",
    "Let's work out how many of these journals were published in Berlin."
   ]
  },
  {
   "cell_type": "code",
   "execution_count": null,
   "metadata": {},
   "outputs": [],
   "source": [
    "inputs = {\n",
    "    \"table\": outputs_table,\n",
    "    \"query\": \"SELECT * from data where City like 'Berlin'\"\n",
    "}\n",
    "\n",
    "outputs = kiara.run_job('query.table', inputs=inputs)\n",
    "\n",
    "outputs"
   ]
  },
  {
   "cell_type": "markdown",
   "metadata": {},
   "source": [
    "The function has returned the table with just the results we were looking for from the SQL query. \n",
    "\n",
    "Let's narrow this further, and find all the journals that are just about general medicine and published in Berlin.\n",
    "\n",
    "We can re-use the `query.table` function and the table we've just made, stored in `outputs['query_result']`"
   ]
  },
  {
   "cell_type": "code",
   "execution_count": null,
   "metadata": {},
   "outputs": [],
   "source": [
    "inputs = {\n",
    "    \"table\" : outputs['query_result'],\n",
    "    \"query\" : \"SELECT * from data where JournalType like 'general medicine'\"\n",
    "}\n",
    "\n",
    "outputs = kiara.run_job('query.table', inputs=inputs)\n",
    "\n",
    "outputs"
   ]
  },
  {
   "cell_type": "markdown",
   "metadata": {},
   "source": [
    "<h3>Recording and Tracing our Data</h3>\n",
    "\n",
    "We've quite a few changes to this table, so let's double check the information about this new table we've created with our queries."
   ]
  },
  {
   "cell_type": "code",
   "execution_count": null,
   "metadata": {},
   "outputs": [],
   "source": [
    "query_output = outputs['query_result']\n",
    "\n",
    "query_output"
   ]
  },
  {
   "cell_type": "markdown",
   "metadata": {},
   "source": [
    "Looks good!\n",
    "\n",
    "We might have changed things around, but we can still get lots of information about all our data.\n",
    "\n",
    "More importantly, *kiara* is able to trace all of these changes, tracking the inputs and outputs and giving them all different identifiers, so you know exactly what has happened to your data.\n",
    "<br/>First lets have a look at our basic lineage function - this gets us the 'backstage' of what has been going on, showing the inputs for each of the functions that we have run, and where they might feed into one another. In each case, *kiara* has assigned the inputs a unique identifier. Check it out!"
   ]
  },
  {
   "cell_type": "code",
   "execution_count": null,
   "metadata": {},
   "outputs": [],
   "source": [
    "query_output.lineage"
   ]
  },
  {
   "cell_type": "markdown",
   "metadata": {},
   "source": [
    "We can also visualise this, allowing us to view the different functions and their inputs and outputs as a series of steps or 'workflow' as we've been talking about."
   ]
  },
  {
   "cell_type": "code",
   "execution_count": null,
   "metadata": {},
   "outputs": [],
   "source": [
    "from kiara_plugin.dh_tagung_2023.utils import augment_lineage_data"
   ]
  },
  {
   "cell_type": "code",
   "execution_count": null,
   "metadata": {},
   "outputs": [],
   "source": [
    "augmented_nodes = augment_lineage_data(query_output,kiara)"
   ]
  },
  {
   "cell_type": "code",
   "execution_count": null,
   "metadata": {},
   "outputs": [],
   "source": [
    "%%capture\n",
    "! pip install observable_jupyter"
   ]
  },
  {
   "cell_type": "code",
   "execution_count": null,
   "metadata": {},
   "outputs": [],
   "source": [
    "from observable_jupyter import embed"
   ]
  },
  {
   "cell_type": "code",
   "execution_count": null,
   "metadata": {},
   "outputs": [],
   "source": [
    "embed('@dharpa-project/kiara-data-lineage', cells=['displayViz', 'style'], inputs={'dataset':augmented_nodes})"
   ]
  },
  {
   "cell_type": "markdown",
   "metadata": {},
   "source": [
    "Even though we are only actually asking for the **data lineage** using the *last* SQL query and the table it made, *kiara* shows us everything that has happened since we first downloaded the file. This helps us keep an eye on the research process *and* the changes we are making to the data at the same time!\n",
    "\n",
    "<h2>What next...?</h2>\n",
    "\n",
    "That's great, you've completed the first notebook and successfully installed *kiara*, downloaded files, tested out some functions, and are able to see what this does to your data. \n",
    "\n",
    "Now you can check out the other plugin packages to explore how this helps you manage and trace your data while using digital analysis tools!\n"
   ]
  }
 ],
 "metadata": {
  "kernelspec": {
   "display_name": "Python 3 (ipykernel)",
   "language": "python",
   "name": "python3"
  },
  "language_info": {
   "codemirror_mode": {
    "name": "ipython",
    "version": 3
   },
   "file_extension": ".py",
   "mimetype": "text/x-python",
   "name": "python",
   "nbconvert_exporter": "python",
   "pygments_lexer": "ipython3",
   "version": "3.9.16"
  },
  "vscode": {
   "interpreter": {
    "hash": "45b5c7738bc8637235e106f70e050ded433dba4dc631b4d0037b12141f4d4631"
   }
  }
 },
 "nbformat": 4,
 "nbformat_minor": 4
}
