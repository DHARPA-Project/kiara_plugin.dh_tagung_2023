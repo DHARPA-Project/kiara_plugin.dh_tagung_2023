{
 "cells": [
  {
   "cell_type": "markdown",
   "id": "80e45108",
   "metadata": {},
   "source": [
    "<h2><i>kiara</i>: Network Analysis</h2>\n",
    "\n",
    "Welcome back! Now that we're comfortable with what <i>kiara</i> looks like and what it can do to help track your data and your research process, let's try out some of the digital analysis tools, starting with <b>Network Analysis</b>.\n",
    "\n",
    "<h2>Why Network Analysis?</h2>\n",
    "\n",
    "Network Analysis offers a computational and quantitative means to examine and explore relational objects, with proxies to measure structural roles and concepts such as power and influence. Doing so digitally - and at scale - also allows us to consider these kinds of questions with large amounts of material or documents that was not  heretofore manageable with qualitative or manual approaches.\n",
    "\n",
    "We won't get into any core network theories or its uses in the humanities here, as we're focused on the ways in which network analysis in <i>kiara</i> offers an interesting way to wrap the research process, and think about the decisions we're making and how to trace them. If you're interested in learning more about network analysis, or how to code using <a href=\"https://networkx.org\">NetworkX</a>, the library currently used in these <i>kiara</i> modules, check out our recommended reading at the bottom.\n",
    "\n",
    "<h3>Getting Started</h3>\n",
    "<br>Let's start by double checking that we have all the required plugins and setting up an API for us to use <i>kiara</i>. We'll do this all in one go this time, but if you're unsure, feel free to head back to the <a href=\"http://dharpa.org/kiara.documentation/latest/workshop/workshop/\">installation notebook</a> to look over this section again."
   ]
  },
  {
   "cell_type": "code",
   "execution_count": null,
   "id": "2b51f811",
   "metadata": {},
   "outputs": [],
   "source": [
    "import networkx as nx\n",
    "import os\n",
    "import matplotlib.pyplot as plt\n",
    "from kiara.api import KiaraAPI\n",
    "kiara = KiaraAPI.instance()"
   ]
  },
  {
   "cell_type": "markdown",
   "id": "bdf5436e-27df-483a-aeb8-7c233c25ff30",
   "metadata": {},
   "source": [
    "### Data\n",
    "Next we set up the filepaths for the data that we are going to use in this notebook. It is located in the same directory as the two jupyter notebooks are. You can find both files under 'data'. You will learn more about its contents later on."
   ]
  },
  {
   "cell_type": "code",
   "execution_count": null,
   "id": "fc1aecba-4076-42df-8fbb-a19c56b0e901",
   "metadata": {},
   "outputs": [],
   "source": [
    "notebook_path = os.path.abspath('')\n",
    "\n",
    "csv_file_path = os.path.join(notebook_path, \"..\", \"data\", \"CKCC.csv\")\n",
    "gml_file_path = os.path.join(notebook_path, \"..\", \"data\", \"lesmis.gml\")"
   ]
  },
  {
   "cell_type": "markdown",
   "id": "df817d67",
   "metadata": {},
   "source": [
    "Great, we're all set up. We're going to import some data again like in the first notebook, but this time we're going to use a local file, using the kiara function `import.local.file`. We're using sample data again here, but you can also use this function to import your own data in the future. \n",
    "\n",
    "The data we're using here is a sample taken from the <b>Circulation of Knowledge and Learned Practices in the 17th-century Dutch Republic (CKCC)</b> dataset collated by the Huygens Institute in the Netherlands and available on the 'LetterSampo' portal created by the Reassembling the Republic of Letters project team. For more on these projects see <a href=\"https://seco.cs.aalto.fi/projects/rrl/\">here</a>.\n",
    "\n",
    "The CKCC collection features around 20,000 letters written by and to 17th century scholars in the Dutch republic. Using quantitative network analysis on this dataset might offer insights into the most prolific writer in the dataset, which actor connected the most people, or who operated in closely knit writing groups. Although we can also use network analysis to explore or 'map' our datasets if we don't know much about them, in this notebook the research questions and module parameters have been built around and defined by the information we already have about the data. It's important that we acknowledge this now as a core factor in the decisions already made for this process, but we'll also return to this throughout the notebook.\n",
    "\n",
    "Let's use the <i>kiara</i> function `import.local.file` then to access our datset, specifying the path to the csv file in our <span style=\"color:green\">inputs</span> and saving the <span style=\"color:red\">outputs</span> of the function as '<b>CKCC</b>'. Here we're indicating the 'csv_file_path' variable we have defined above. If it's stored somewhere else, we need to specify the full file path. (If you are using a file path and not a variable, remember to surround it with quotes like this for example: \"/Users/some.user/Documents/my_csvfile.csv\"). Alternatively, we can use the `download.file` module used in the <b>Hello Kiara</b> notebook."
   ]
  },
  {
   "cell_type": "code",
   "execution_count": null,
   "id": "dc35aee6",
   "metadata": {},
   "outputs": [],
   "source": [
    "CKCC = kiara.run_job('import.local.file', inputs={'path': csv_file_path})\n",
    "CKCC"
   ]
  },
  {
   "cell_type": "markdown",
   "id": "b60ed7f3",
   "metadata": {},
   "source": [
    "<h2>Creating a Network</h2>\n",
    "\n",
    "Time to make our network from this data. Let's have another look at the <i>kiara</i> modules to find something that will allow us to build a network. "
   ]
  },
  {
   "cell_type": "code",
   "execution_count": null,
   "id": "b8b0a3b1",
   "metadata": {},
   "outputs": [],
   "source": [
    "kiara.list_operation_ids()"
   ]
  },
  {
   "cell_type": "markdown",
   "id": "65b7eb75",
   "metadata": {},
   "source": [
    "The top ones look great. Let's have a look what we need with the function `assemble.network_data.from.tables` using `kiara.retrieve_operation_info` once more."
   ]
  },
  {
   "cell_type": "code",
   "execution_count": null,
   "id": "1d3a1480",
   "metadata": {},
   "outputs": [],
   "source": [
    "kiara.retrieve_operation_info('assemble.network_data.from.tables')"
   ]
  },
  {
   "cell_type": "markdown",
   "id": "cdceb572",
   "metadata": {},
   "source": [
    "Like other network analysis tools, <i>kiara</i> first needs the data as an edge table. This means we first have to transform the csv file we imported earlier into a table before we can create the network data. Let's start by using the `create.table.from.file` function that we used in the first notebook and storing this as our <b>edges</b>, then use this to create our network data using the `assemble.network_data.from.tables` that we just read about. In this, we are defining two different sets of <span style=\"color:green\">inputs</span>, overriding the first variable once we have used it to create our table.\n",
    "\n",
    "If we want, we can also import a separate table with the nodes in, but this is optional, and for the moment let's stick with just the edge table. We'll store this again at the end in the variable <b>CKCC</b> for us to use again in a bit.\n",
    "\n",
    "First check the <span style=\"color:green\">inputs</span> requirements for the `create.table.from.file` function, just to be sure:"
   ]
  },
  {
   "cell_type": "code",
   "execution_count": null,
   "id": "c1bca7fe-a9f3-4112-b3b2-c2007d967e0d",
   "metadata": {},
   "outputs": [],
   "source": [
    "kiara.retrieve_operation_info('create.table.from.file')"
   ]
  },
  {
   "cell_type": "code",
   "execution_count": null,
   "id": "b946d993",
   "metadata": {
    "scrolled": true
   },
   "outputs": [],
   "source": [
    "inputs = {\n",
    "    \"file\": CKCC['file'],\n",
    "    \"first_row_is_header\": True\n",
    "}\n",
    "\n",
    "outputs = kiara.run_job('create.table.from.file', inputs=inputs)\n",
    "\n",
    "edges = outputs['table']\n",
    "\n",
    "inputs = {\n",
    "    'edges': edges,\n",
    "    'source_column_name': 'Source',\n",
    "    'target_column_name': 'Target'\n",
    "}\n",
    "\n",
    "CKCC = kiara.run_job('assemble.network_data.from.tables', inputs=inputs)\n",
    "CKCC"
   ]
  },
  {
   "cell_type": "markdown",
   "id": "92bd53d9",
   "metadata": {},
   "source": [
    "Great - this has made a <i>kiara</i> network data object, and the output is showing the edge table and node table for the network. As we didn't give it a node table to start with this, it has extracted the information for the nodes from the edges instead.\n",
    "\n",
    "As we can see, some of the edges are listed more than once, where more than one letter was written from one person to another. There's obviously more information about the network than just a list of edges and nodes then - let's find out some more information about our network object then."
   ]
  },
  {
   "cell_type": "markdown",
   "id": "424caf07",
   "metadata": {},
   "source": [
    "<h2>Network Data</h2>\n",
    "\n",
    "Let's start by having a look at the information for our network using the `get_property_data` function. As we're querying the `network_data` part of our network object, we'll save this as <b>CKCC</b> for the moment."
   ]
  },
  {
   "cell_type": "code",
   "execution_count": null,
   "id": "9122bb4f",
   "metadata": {},
   "outputs": [],
   "source": [
    "CKCC = CKCC['network_data']\n",
    "CKCC.get_property_data('metadata.graph_properties')"
   ]
  },
  {
   "cell_type": "markdown",
   "id": "4131f51e",
   "metadata": {},
   "source": [
    "Doing this gives us the total number of nodes, but also gives us an idea of the different kind of graphs we might chose to use for this dataset - <b>Directed</b>, <b>Undirected</b>, <b>Multi-Directed</b>, and <b>Multi-Undirected</b>. We spotted earlier that some of the edges were listed more than once, but this function tells us that there are a total of 17,087 parallel edges - we can decide what we'll do with those in a little bit, but it's good to know that they make up quite a lot of our data. It also shows us that there's a large number of self-loops - this is unusual in epistolarly collections, so this function might also flag up some errors or inconsistencies in our dataset that we can go back to at some point.\n",
    "\n",
    "Having this kind of information accessible means we can make more informed decisions about the next steps that might work with our research or digital analysis, especially those that are sometimes automated for us.\n",
    "\n",
    "Let's get some more information about the network as a whole then, using the `network_data.extract_largest_component` function. This works out how many different distinct components there are in a network, and also gives us the largest component on its own. We'll have a quick look at how it works first."
   ]
  },
  {
   "cell_type": "code",
   "execution_count": null,
   "id": "d55d1dff",
   "metadata": {},
   "outputs": [],
   "source": [
    "kiara.retrieve_operation_info('network_data.extract_largest_component')"
   ]
  },
  {
   "cell_type": "code",
   "execution_count": null,
   "id": "33df63cc",
   "metadata": {
    "scrolled": true
   },
   "outputs": [],
   "source": [
    "output = kiara.run_job('network_data.extract_largest_component', inputs={'network_data':CKCC})\n",
    "output"
   ]
  },
  {
   "cell_type": "markdown",
   "id": "2dfd3920",
   "metadata": {},
   "source": [
    "For now, let's save our largest component in the variable `network_data` for later - we'll use this for the rest of our experiments rather than the full network, and make sure we're tracing this using <i>kiara</i>.\n",
    "\n",
    "Let's have a look at the information for this largest component, using our `get_property_data` function again."
   ]
  },
  {
   "cell_type": "code",
   "execution_count": null,
   "id": "fead2fec",
   "metadata": {},
   "outputs": [],
   "source": [
    "network_data = output['largest_component']\n",
    "\n",
    "network_data.get_property_data('metadata.graph_properties')"
   ]
  },
  {
   "cell_type": "markdown",
   "id": "b023d092",
   "metadata": {},
   "source": [
    "<h2>Onboarding Data: An Alternative</h2>\n",
    "\n",
    "So far then, we have created a network object in <i>kiara</i> by importing a csv from a local path.\n",
    "\n",
    "But what about other formats? Let's pause quickly, and have a look at importing a <b>gml</b> file instead. \n",
    "\n",
    "Here we will use a different sample dataset, <a href=\"http://www-personal.umich.edu/~mejn/netdata/\">co-appearance network</a> of characters in Victor Hugo's novel <i>Les Miserables</i>, already in gml format. \n",
    "\n",
    "Let's have a look at the function `onboard.gml_file` and how this will work for us."
   ]
  },
  {
   "cell_type": "code",
   "execution_count": null,
   "id": "5375848e",
   "metadata": {
    "scrolled": true
   },
   "outputs": [],
   "source": [
    "kiara.retrieve_operation_info('onboard.gml_file')"
   ]
  },
  {
   "cell_type": "markdown",
   "id": "c3abd25d",
   "metadata": {},
   "source": [
    "We need a local file path again, and we can go ahead and save this as <b>lesmis</b>."
   ]
  },
  {
   "cell_type": "code",
   "execution_count": null,
   "id": "b54e1089",
   "metadata": {
    "scrolled": true
   },
   "outputs": [],
   "source": [
    "lesmis = kiara.run_job('onboard.gml_file', inputs={'path': gml_file_path})\n",
    "lesmis"
   ]
  },
  {
   "cell_type": "markdown",
   "id": "ca042dcd",
   "metadata": {},
   "source": [
    "As we can see, this module not only imports the gml file into <i>kiara</i> but automatically converts it into a <i>kiara</i> network object for us. Great!\n",
    "\n",
    "Here we can see that the edge table has a 'value' column to indicate edges weights that has also been automatically included with the gml data.\n",
    "\n",
    "We'll leave this <i>Les Miserables</i> network for now, but it's useful to see this other option for importing data for networks. If you want to experiment with this dataset later, feel free to come back to it!"
   ]
  },
  {
   "cell_type": "markdown",
   "id": "7b7c753f",
   "metadata": {},
   "source": [
    "<h2>Network Analysis: Statistical Measures</h2>\n",
    "\n",
    "Ok, let's head back to our correspSearch largest component dataset, stored in the variable <b>network_data</b>. We've already had a look at some graph wide measures, so let's start looking at some node specific measurements.\n",
    "\n",
    "<b>Degree</b>\n",
    "<br>Let's start with degree, using `create.degree_rank_list`. This module allows us to calculate degree as both <b>undirected</b> and <b>weighted</b>. In this epistolary network, <b>undirected degree</b> counts the number of individual correspondents each person has, whereas <b>weighted degree</b> counts the total number of incoming and outgoing letters for each actor in the network. \n",
    "\n",
    "Let's use our `retrieve_operation_info` function to have a look at what we need to calculate these degrees."
   ]
  },
  {
   "cell_type": "code",
   "execution_count": null,
   "id": "41b57ee2",
   "metadata": {},
   "outputs": [],
   "source": [
    "kiara.retrieve_operation_info('create.degree_rank_list')"
   ]
  },
  {
   "cell_type": "markdown",
   "id": "cf64d9e3",
   "metadata": {},
   "source": [
    "So we've already computed the largest component to use as the `network_data` input, and we want to calculate the weighted degree meaures, so we'll leave the default as 'True'. Unlike the <i>Les Miserables</i> network, we don't have a pre-existing weight value for the edges, but we do know that there are parallell edges from multiple letters between correspondents, so we'll allow the module to aggregate the edges and set this as a weight. \n",
    "\n",
    "In creating this module, assumptions have already been made that we are working with both a single node type and a single edge type network. Again, a lot of the parameters have been set based on what we already know about the dataset, but we also need to acknowledge this as an active decision that has been 'pre-made' as part of the research process.\n",
    "\n",
    "The inputs for `create.degree_rank_list` are prompting us to reflect on the decisions we are making as we are going along, and think about how our data fits into these kind of measurements, but by doing it in <i>kiara</i>, these inputs also allows us to <i>track</i> these decisions, as we will see more of later.\n",
    "\n",
    "Let's give it a go then."
   ]
  },
  {
   "cell_type": "code",
   "execution_count": null,
   "id": "41d2bcaa",
   "metadata": {
    "scrolled": true
   },
   "outputs": [],
   "source": [
    "output = kiara.run_job('create.degree_rank_list', inputs={'network_data':network_data})\n",
    "output"
   ]
  },
  {
   "cell_type": "markdown",
   "id": "2dc58fd4",
   "metadata": {},
   "source": [
    "Great, this function gives us a table with the undirected degree and weighted degree for each member of this network, ranking them by undirected degree. \n",
    "\n",
    "In doing so, it's done two extra things for us. Seeing as we allowed the function to calculate parallel edges as edge weight, it's now saved the weight as an edge attribute that we can carry forward into our next measurements. It's also assigned the two degree scores as node attributes in our network, which means we can also keep these in further centrality measurements, allowing us to accumulate all the different scores rather than re-writing over them each time.\n",
    "\n",
    "<b>Betweenness</b>\n",
    "<br>Let's have a look at a different centrality measure now - use `retrieve.operation.info` again to see what we need to calculate betweenness for the nodes in our network."
   ]
  },
  {
   "cell_type": "code",
   "execution_count": null,
   "id": "4a4ee581",
   "metadata": {
    "scrolled": true
   },
   "outputs": [],
   "source": [
    "kiara.retrieve_operation_info('create.betweenness_rank_list')"
   ]
  },
  {
   "cell_type": "markdown",
   "id": "e7d7c167",
   "metadata": {},
   "source": [
    "This module allows us to calculate both unweighted and weighted betweenness, so we'll go ahead and do both of those. Again, we can select a column that holds the edge weight if, like in our <i>Les Miserables</i> network, it it already exists or has a different label. As we just used the degree module to calculate edge weight using the parallel edges, we can leave this and it will automatically select the 'weight' column we just created. \n",
    "\n",
    "This module also asks us to define how we want our weights to be interpreted - is the weight 'positive', indicating strong relationships, or is it 'negative', acting as a distance or time needed for these edges? Whilst this is often automated in network measures, <i>kiara</i> prompts us to think more carefully about our data and our network, and again gets us to trace the decisions we as researchers are making about our analysis.\n",
    "\n",
    "As we're dealing with epistolary data, we'll leave this input as 'True', as the weight indicates strength. At this stage, the module is also set to calculate both unweighted and weighted betweenness using the network as a directed graph. Though this is another 'pre-made' decision for this notebook and the dataset in use, it's important to acknowledge this and be as transparent about these kind of choices as the ones actively documented by user input.\n",
    "\n",
    "Let's give it a go then. We want to use the network we just created using the degree ranking module, so let's save that and use it in our inputs."
   ]
  },
  {
   "cell_type": "code",
   "execution_count": null,
   "id": "6c4f451b",
   "metadata": {},
   "outputs": [],
   "source": [
    "network_data = output['centrality_network']\n",
    "\n",
    "output = kiara.run_job('create.betweenness_rank_list', inputs={'network_data':network_data})\n",
    "\n",
    "output"
   ]
  },
  {
   "cell_type": "markdown",
   "id": "87226096",
   "metadata": {},
   "source": [
    "Just like the degree module, it's returned a table with the two betweenness scores, ranked by unweighted, and also assigned these as node attributes that we can carry forward into more measurements. Let's look at one more centrality here in this notebook.\n",
    "\n",
    "<b>Eigenvector</b>\n",
    "<br><i>kiara</i> also holds a module to measure eigenvector centrality, so let's look again at what that needs."
   ]
  },
  {
   "cell_type": "code",
   "execution_count": null,
   "id": "5fbcee7e",
   "metadata": {},
   "outputs": [],
   "source": [
    "kiara.retrieve_operation_info('create.eigenvector_rank_list')"
   ]
  },
  {
   "cell_type": "markdown",
   "id": "d31c2b35",
   "metadata": {},
   "source": [
    "This module is set up similary to the betweenness measure, and again we can define the column with the weight information if we need to, and how to interpret these weights. If you have a larger dataset, you can also change the iterations for the measurement. For the moment we'll leave the parameters as they are, and again use our updated network with the degree and betweenness scores attached."
   ]
  },
  {
   "cell_type": "code",
   "execution_count": null,
   "id": "4779dfd3",
   "metadata": {},
   "outputs": [],
   "source": [
    "network_data = output['centrality_network']\n",
    "\n",
    "output = kiara.run_job('create.eigenvector_rank_list', inputs={'network_data':network_data})\n",
    "\n",
    "output"
   ]
  },
  {
   "cell_type": "markdown",
   "id": "ed33905c",
   "metadata": {},
   "source": [
    "As before, we have our score table and our updated node attributes. Great!\n",
    "\n",
    "There's one final centrality measure in the network analysis plugin for closeness. See if you can work out how to check the information for this and run it on the network here, or feel free to move on to other measures.\n",
    "\n",
    "<b>Modularity Group</b>\n",
    "<br>This next module determines the modularity groups in the network, again assigning each group as a node attribute. Let's have a look at the parameters for it."
   ]
  },
  {
   "cell_type": "code",
   "execution_count": null,
   "id": "344cb118",
   "metadata": {},
   "outputs": [],
   "source": [
    "kiara.retrieve_operation_info('compute.modularity_group')"
   ]
  },
  {
   "cell_type": "markdown",
   "id": "4647f5df",
   "metadata": {},
   "source": [
    "Here, we can set the number of communities that we want the module to divide our network up into, or we can allow the code to find this automatically.\n",
    "\n",
    "Let's give it a go with our network once more."
   ]
  },
  {
   "cell_type": "code",
   "execution_count": null,
   "id": "0a4eda8c",
   "metadata": {
    "scrolled": true
   },
   "outputs": [],
   "source": [
    "network_data = output['centrality_network']\n",
    "\n",
    "output = kiara.run_job('compute.modularity_group', inputs={'network_data':network_data})\n",
    "\n",
    "output"
   ]
  },
  {
   "cell_type": "markdown",
   "id": "ca8e2a39",
   "metadata": {},
   "source": [
    "Great - this once again gives us our updated network, and also tells us how many modularity groups the measure has found in the network.\n",
    "\n",
    "Let's look at one last measure.\n",
    "\n",
    "<b>Cut Points</b>\n",
    "This last function finds all the cut-points in the network, nodes that when removed will separate the component into two or more pieces. This function will return a list of the cut-points, and assign 'Yes' or 'No' as a node attribute.\n",
    "\n",
    "Let's have a look one last time."
   ]
  },
  {
   "cell_type": "code",
   "execution_count": null,
   "id": "9a450117",
   "metadata": {},
   "outputs": [],
   "source": [
    "kiara.retrieve_operation_info('create.cut_point_list')"
   ]
  },
  {
   "cell_type": "markdown",
   "id": "6d0ea0b3",
   "metadata": {},
   "source": [
    "Nice and simple, no extra parameters: it just needs our network."
   ]
  },
  {
   "cell_type": "code",
   "execution_count": null,
   "id": "396edfde",
   "metadata": {},
   "outputs": [],
   "source": [
    "network_data = output['modularity_network']\n",
    "\n",
    "output = kiara.run_job('create.cut_point_list', inputs={'network_data':network_data})\n",
    "\n",
    "output"
   ]
  },
  {
   "cell_type": "markdown",
   "id": "6cb1ebf3",
   "metadata": {},
   "source": [
    "Having started simply with an imported CSV of letter edges, we've now got a lot of information. This is great - but what next?\n",
    "\n",
    "<h2>Exporting the Network</h2>\n",
    "\n",
    "<i>kiara</i> has stored all of this information we have just created, and as it's interoperable, it also allows us to export this network again. We can export all this network data as a set of CSVs or even graphml with built in <i>kiara</i> modules like this:"
   ]
  },
  {
   "cell_type": "code",
   "execution_count": null,
   "id": "c0c29112",
   "metadata": {},
   "outputs": [],
   "source": [
    "kiara.retrieve_operation_info('export.network_data.as.graphml_file')"
   ]
  },
  {
   "cell_type": "markdown",
   "id": "50e2cab4",
   "metadata": {},
   "source": [
    "Let's export our final network after the cut-points measures then, and save it locally."
   ]
  },
  {
   "cell_type": "code",
   "execution_count": null,
   "id": "a099ffa6",
   "metadata": {},
   "outputs": [],
   "source": [
    "network_data = output['cut_network']\n",
    "\n",
    "output = kiara.run_job('export.network_data.as.graphml_file', inputs={'network_data':network_data, 'name':'CKCC_kiara_network'})"
   ]
  },
  {
   "cell_type": "markdown",
   "id": "091200df",
   "metadata": {},
   "source": [
    "Now that we've done that, we can use NetworkX to visualise our final graph. Though it's difficult to see properly given the scale of the network, it's nice to visualise what we've been working with!"
   ]
  },
  {
   "cell_type": "code",
   "execution_count": null,
   "id": "a52d5eea",
   "metadata": {},
   "outputs": [],
   "source": [
    "network = nx.read_graphml('CKCC_kiara_network.graphml')\n",
    "nx.draw(network)"
   ]
  },
  {
   "cell_type": "markdown",
   "id": "3632c9ec",
   "metadata": {},
   "source": [
    "Finally we can check out the lineage for our final export output. As we can see, it has stored all the decisions we have made, and the ways in which they have created 'new' datasets, right from our original import."
   ]
  },
  {
   "cell_type": "code",
   "execution_count": null,
   "id": "cfd41349",
   "metadata": {},
   "outputs": [],
   "source": [
    "from kiara_plugin.dh_tagung_2023.utils import augment_lineage_data"
   ]
  },
  {
   "cell_type": "code",
   "execution_count": null,
   "id": "3aa352a1",
   "metadata": {},
   "outputs": [],
   "source": [
    "augmented_nodes = augment_lineage_data(output['export_details'],kiara)"
   ]
  },
  {
   "cell_type": "code",
   "execution_count": null,
   "id": "1e22ebf4",
   "metadata": {},
   "outputs": [],
   "source": [
    "from observable_jupyter import embed"
   ]
  },
  {
   "cell_type": "code",
   "execution_count": null,
   "id": "63183e57",
   "metadata": {},
   "outputs": [],
   "source": [
    "embed('@dharpa-project/kiara-data-lineage', cells=['displayViz', 'style'], inputs={'dataset':augmented_nodes, 'modulesNodes':12, 'valueNodes':7, 'Width': 260, 'Height': 500})"
   ]
  },
  {
   "cell_type": "markdown",
   "id": "6a808853",
   "metadata": {},
   "source": [
    "<h2>Recommended Reading</h2>\n",
    "<br>Want to know more about Network Analysis? Here's some helpful tutorials and reading:\n",
    "\n",
    "* <a href=\"https://programminghistorian.org/en/lessons/exploring-and-analyzing-network-data-with-python\"><i>Programming Historian</i> NetworkX tutorial</a>\n",
    "* Ahnert, Ruth, Ahnert, Sebastian E., Coleman, Catherine Nicole and Scott B. Weingart 2020. <i>The Network Turn: The Changing Perspectives in the Humanities</i>. Cambridge: Cambridge University Press. https://doi.org/10.1017/9781108866804\n",
    "* Barabási, Albert-László. <i>Linked: The New Science of Networks</i>. New York: Penguin Group, 2002.\n",
    "* Borgatti, Stephen. ‘The Key Player Problem.’ In <i>Dynamic Social Network Modeling and Analysis: Workshop Summary and Papers</i>. Edited by Ronald Breiger, Kathleen Carley and Philippa Pattison. Washington: The National Acadamies Press, 2003. 241-252.\n",
    "* Brughmans, Tom, Anna Collar, and Fiona Coward, ed. <i>The Connected Past: Challenges to Network Studies in Archaeology and History</i>. Oxford: Oxford University Press, 2016.\n",
    "* Tuominen, Jouni, Koho, Mikko, Pikkanen, Ilona, Drobac, Senka, Enqvist, Johanna, Hyvönen, Eero, La Mela, Matti, Leskinen, Petri, Paloposki, Hanna-Leena and Rantala, Heikki. Constellations of Correspondence: a Linked Data Service and Portal for Studying Large and Small Networks of Epistolary Exchange in the Grand Duchy of Finland. DHNB 2022 The 6th Digital Humanities in Nordic and Baltic Countries Conference, pp. 415-423, CEUR Workshop Proceedings, Vol. 3232, March, 2022. http://ceur-ws.org/Vol-3232/paper41.pdf"
   ]
  },
  {
   "cell_type": "code",
   "execution_count": null,
   "id": "800e3bbb",
   "metadata": {},
   "outputs": [],
   "source": []
  }
 ],
 "metadata": {
  "kernelspec": {
   "display_name": "Python 3 (ipykernel)",
   "language": "python",
   "name": "python3"
  },
  "language_info": {
   "codemirror_mode": {
    "name": "ipython",
    "version": 3
   },
   "file_extension": ".py",
   "mimetype": "text/x-python",
   "name": "python",
   "nbconvert_exporter": "python",
   "pygments_lexer": "ipython3",
   "version": "3.9.16"
  }
 },
 "nbformat": 4,
 "nbformat_minor": 5
}
